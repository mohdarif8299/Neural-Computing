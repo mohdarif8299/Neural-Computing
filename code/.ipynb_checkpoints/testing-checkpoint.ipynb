{
 "cells": [
  {
   "cell_type": "markdown",
   "id": "f96074e0",
   "metadata": {},
   "source": [
    "## Test models"
   ]
  },
  {
   "cell_type": "code",
   "execution_count": 27,
   "id": "61349179",
   "metadata": {},
   "outputs": [],
   "source": [
    "import pandas as pd\n",
    "from joblib import load\n",
    "import warnings\n",
    "warnings.filterwarnings('ignore')"
   ]
  },
  {
   "cell_type": "code",
   "execution_count": 28,
   "id": "b98f6890",
   "metadata": {},
   "outputs": [],
   "source": [
    "# Load the models\n",
    "best_mlp = load('mlp_grid_search.joblib')\n",
    "best_svm = load('svm_grid_search.joblib')"
   ]
  },
  {
   "cell_type": "code",
   "execution_count": 29,
   "id": "13a4e2b7",
   "metadata": {},
   "outputs": [],
   "source": [
    "# Load the test data from a CSV file\n",
    "test_data = pd.read_csv('test_data.csv')\n",
    "\n",
    "# Separate the features and the true labels\n",
    "X_test = test_data.drop('True_Label', axis=1)\n",
    "y_test = test_data['True_Label']"
   ]
  },
  {
   "cell_type": "code",
   "execution_count": 30,
   "id": "5d4ed9a9-9a6b-4174-9045-ba643ee7d19c",
   "metadata": {},
   "outputs": [
    {
     "data": {
      "text/html": [
       "<div>\n",
       "<style scoped>\n",
       "    .dataframe tbody tr th:only-of-type {\n",
       "        vertical-align: middle;\n",
       "    }\n",
       "\n",
       "    .dataframe tbody tr th {\n",
       "        vertical-align: top;\n",
       "    }\n",
       "\n",
       "    .dataframe thead th {\n",
       "        text-align: right;\n",
       "    }\n",
       "</style>\n",
       "<table border=\"1\" class=\"dataframe\">\n",
       "  <thead>\n",
       "    <tr style=\"text-align: right;\">\n",
       "      <th></th>\n",
       "      <th>0</th>\n",
       "      <th>1</th>\n",
       "      <th>2</th>\n",
       "      <th>3</th>\n",
       "      <th>4</th>\n",
       "      <th>5</th>\n",
       "      <th>6</th>\n",
       "      <th>7</th>\n",
       "      <th>8</th>\n",
       "      <th>9</th>\n",
       "      <th>10</th>\n",
       "      <th>True_Label</th>\n",
       "    </tr>\n",
       "  </thead>\n",
       "  <tbody>\n",
       "    <tr>\n",
       "      <th>0</th>\n",
       "      <td>1.490802</td>\n",
       "      <td>0.997075</td>\n",
       "      <td>-1.013566</td>\n",
       "      <td>0.378336</td>\n",
       "      <td>0.288433</td>\n",
       "      <td>-0.851655</td>\n",
       "      <td>1.457158</td>\n",
       "      <td>-0.717768</td>\n",
       "      <td>1.341739</td>\n",
       "      <td>0.099559</td>\n",
       "      <td>0.937882</td>\n",
       "      <td>1</td>\n",
       "    </tr>\n",
       "    <tr>\n",
       "      <th>1</th>\n",
       "      <td>-0.272949</td>\n",
       "      <td>0.997075</td>\n",
       "      <td>-1.013566</td>\n",
       "      <td>0.305091</td>\n",
       "      <td>-0.131284</td>\n",
       "      <td>-0.503362</td>\n",
       "      <td>0.006489</td>\n",
       "      <td>-0.440936</td>\n",
       "      <td>1.023360</td>\n",
       "      <td>0.286147</td>\n",
       "      <td>0.582758</td>\n",
       "      <td>1</td>\n",
       "    </tr>\n",
       "    <tr>\n",
       "      <th>2</th>\n",
       "      <td>0.314968</td>\n",
       "      <td>0.997075</td>\n",
       "      <td>-1.013566</td>\n",
       "      <td>1.660125</td>\n",
       "      <td>0.520382</td>\n",
       "      <td>0.541517</td>\n",
       "      <td>-0.846504</td>\n",
       "      <td>-0.517834</td>\n",
       "      <td>2.547029</td>\n",
       "      <td>1.460548</td>\n",
       "      <td>0.550474</td>\n",
       "      <td>0</td>\n",
       "    </tr>\n",
       "    <tr>\n",
       "      <th>3</th>\n",
       "      <td>-0.272949</td>\n",
       "      <td>0.997075</td>\n",
       "      <td>-1.013566</td>\n",
       "      <td>0.414959</td>\n",
       "      <td>0.906963</td>\n",
       "      <td>-0.503362</td>\n",
       "      <td>0.041305</td>\n",
       "      <td>0.374184</td>\n",
       "      <td>1.318997</td>\n",
       "      <td>0.725175</td>\n",
       "      <td>1.389859</td>\n",
       "      <td>1</td>\n",
       "    </tr>\n",
       "    <tr>\n",
       "      <th>4</th>\n",
       "      <td>0.902885</td>\n",
       "      <td>-1.002933</td>\n",
       "      <td>0.986616</td>\n",
       "      <td>0.378336</td>\n",
       "      <td>-0.296961</td>\n",
       "      <td>0.541517</td>\n",
       "      <td>1.532593</td>\n",
       "      <td>0.574119</td>\n",
       "      <td>-0.795947</td>\n",
       "      <td>0.736151</td>\n",
       "      <td>0.615042</td>\n",
       "      <td>1</td>\n",
       "    </tr>\n",
       "  </tbody>\n",
       "</table>\n",
       "</div>"
      ],
      "text/plain": [
       "          0         1         2         3         4         5         6  \\\n",
       "0  1.490802  0.997075 -1.013566  0.378336  0.288433 -0.851655  1.457158   \n",
       "1 -0.272949  0.997075 -1.013566  0.305091 -0.131284 -0.503362  0.006489   \n",
       "2  0.314968  0.997075 -1.013566  1.660125  0.520382  0.541517 -0.846504   \n",
       "3 -0.272949  0.997075 -1.013566  0.414959  0.906963 -0.503362  0.041305   \n",
       "4  0.902885 -1.002933  0.986616  0.378336 -0.296961  0.541517  1.532593   \n",
       "\n",
       "          7         8         9        10  True_Label  \n",
       "0 -0.717768  1.341739  0.099559  0.937882           1  \n",
       "1 -0.440936  1.023360  0.286147  0.582758           1  \n",
       "2 -0.517834  2.547029  1.460548  0.550474           0  \n",
       "3  0.374184  1.318997  0.725175  1.389859           1  \n",
       "4  0.574119 -0.795947  0.736151  0.615042           1  "
      ]
     },
     "execution_count": 30,
     "metadata": {},
     "output_type": "execute_result"
    }
   ],
   "source": [
    "test_data.head()"
   ]
  },
  {
   "cell_type": "code",
   "execution_count": 31,
   "id": "babca0be",
   "metadata": {},
   "outputs": [],
   "source": [
    "# Make predictions with the MLP model\n",
    "mlp_predictions = best_mlp.predict(X_test)\n",
    "\n",
    "# Make predictions with the SVM model\n",
    "svm_predictions = best_svm.predict(X_test)"
   ]
  },
  {
   "cell_type": "code",
   "execution_count": 32,
   "id": "6c131a84",
   "metadata": {},
   "outputs": [
    {
     "name": "stdout",
     "output_type": "stream",
     "text": [
      "Multilayer Perceptron Model's Accuracy: 0.97\n",
      "Support Vector Machines Model's Accuracy: 0.94\n"
     ]
    }
   ],
   "source": [
    "# calculate the accuracy, compare the predictions with the true labels\n",
    "from sklearn.metrics import accuracy_score\n",
    "\n",
    "mlp_accuracy = accuracy_score(y_test, mlp_predictions)\n",
    "svm_accuracy = accuracy_score(y_test, svm_predictions)\n",
    "\n",
    "print(f\"Multilayer Perceptron Model's Accuracy: {mlp_accuracy:.2f}\")\n",
    "print(f\"Support Vector Machines Model's Accuracy: {svm_accuracy:.2f}\")"
   ]
  },
  {
   "cell_type": "code",
   "execution_count": null,
   "id": "ddbd162b",
   "metadata": {},
   "outputs": [],
   "source": []
  }
 ],
 "metadata": {
  "kernelspec": {
   "display_name": "Python 3 (ipykernel)",
   "language": "python",
   "name": "python3"
  },
  "language_info": {
   "codemirror_mode": {
    "name": "ipython",
    "version": 3
   },
   "file_extension": ".py",
   "mimetype": "text/x-python",
   "name": "python",
   "nbconvert_exporter": "python",
   "pygments_lexer": "ipython3",
   "version": "3.11.7"
  }
 },
 "nbformat": 4,
 "nbformat_minor": 5
}
