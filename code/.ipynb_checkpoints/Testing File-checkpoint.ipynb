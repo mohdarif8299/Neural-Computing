{
 "cells": [
  {
   "cell_type": "markdown",
   "id": "f96074e0",
   "metadata": {},
   "source": [
    "## Test models"
   ]
  },
  {
   "cell_type": "code",
   "execution_count": 1,
   "id": "61349179",
   "metadata": {},
   "outputs": [],
   "source": [
    "import pandas as pd\n",
    "from joblib import load"
   ]
  },
  {
   "cell_type": "code",
   "execution_count": 2,
   "id": "b98f6890",
   "metadata": {},
   "outputs": [],
   "source": [
    "# Load the models\n",
    "best_mlp = load('mlp_model.joblib')\n",
    "best_svm = load('svm_model.joblib')"
   ]
  },
  {
   "cell_type": "code",
   "execution_count": 3,
   "id": "13a4e2b7",
   "metadata": {},
   "outputs": [],
   "source": [
    "# Load the test data from a CSV file\n",
    "test_data = pd.read_csv('test_data.csv')\n",
    "\n",
    "# Separate the features and the true labels\n",
    "X_test = test_data.drop('True_Label', axis=1)\n",
    "y_test = test_data['True_Label']"
   ]
  },
  {
   "cell_type": "code",
   "execution_count": 5,
   "id": "babca0be",
   "metadata": {},
   "outputs": [],
   "source": [
    "# Make predictions with the MLP model\n",
    "mlp_predictions = best_mlp.predict(X_test)\n",
    "\n",
    "# Make predictions with the SVM model\n",
    "svm_predictions = best_svm.predict(X_test)"
   ]
  },
  {
   "cell_type": "code",
   "execution_count": 6,
   "id": "6c131a84",
   "metadata": {},
   "outputs": [
    {
     "name": "stdout",
     "output_type": "stream",
     "text": [
      "Multilayer Perceptron Model's Accuracy: 0.87\n",
      "Support Vector Machines Model's Accuracy: 0.87\n"
     ]
    }
   ],
   "source": [
    "# calculate the accuracy, compare the predictions with the true labels\n",
    "from sklearn.metrics import accuracy_score\n",
    "\n",
    "mlp_accuracy = accuracy_score(y_test, mlp_predictions)\n",
    "svm_accuracy = accuracy_score(y_test, svm_predictions)\n",
    "\n",
    "print(f\"Multilayer Perceptron Model's Accuracy: {mlp_accuracy:.2f}\")\n",
    "print(f\"Support Vector Machines Model's Accuracy: {svm_accuracy:.2f}\")"
   ]
  },
  {
   "cell_type": "code",
   "execution_count": null,
   "id": "ddbd162b",
   "metadata": {},
   "outputs": [],
   "source": []
  }
 ],
 "metadata": {
  "kernelspec": {
   "display_name": "Python 3 (ipykernel)",
   "language": "python",
   "name": "python3"
  },
  "language_info": {
   "codemirror_mode": {
    "name": "ipython",
    "version": 3
   },
   "file_extension": ".py",
   "mimetype": "text/x-python",
   "name": "python",
   "nbconvert_exporter": "python",
   "pygments_lexer": "ipython3",
   "version": "3.11.5"
  }
 },
 "nbformat": 4,
 "nbformat_minor": 5
}
